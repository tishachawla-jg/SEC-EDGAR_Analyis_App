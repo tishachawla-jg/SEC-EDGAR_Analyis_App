{
  "nbformat": 4,
  "nbformat_minor": 0,
  "metadata": {
    "colab": {
      "provenance": [],
      "gpuType": "T4"
    },
    "kernelspec": {
      "name": "python3",
      "display_name": "Python 3"
    },
    "language_info": {
      "name": "python"
    },
    "accelerator": "GPU"
  },
  "cells": [
    {
      "cell_type": "code",
      "execution_count": null,
      "metadata": {
        "colab": {
          "base_uri": "https://localhost:8080/"
        },
        "id": "OGge4qIEXLsc",
        "outputId": "21e49aeb-53ee-45e5-da7c-4d0af3ae23b0"
      },
      "outputs": [
        {
          "output_type": "stream",
          "name": "stdout",
          "text": [
            "Collecting sec-edgar-downloader\n",
            "  Downloading sec_edgar_downloader-5.0.2-py3-none-any.whl (14 kB)\n",
            "Requirement already satisfied: requests in /usr/local/lib/python3.10/dist-packages (from sec-edgar-downloader) (2.31.0)\n",
            "Collecting pyrate-limiter>=3.1.0 (from sec-edgar-downloader)\n",
            "  Downloading pyrate_limiter-3.6.0-py3-none-any.whl (26 kB)\n",
            "Requirement already satisfied: charset-normalizer<4,>=2 in /usr/local/lib/python3.10/dist-packages (from requests->sec-edgar-downloader) (3.3.2)\n",
            "Requirement already satisfied: idna<4,>=2.5 in /usr/local/lib/python3.10/dist-packages (from requests->sec-edgar-downloader) (3.7)\n",
            "Requirement already satisfied: urllib3<3,>=1.21.1 in /usr/local/lib/python3.10/dist-packages (from requests->sec-edgar-downloader) (2.0.7)\n",
            "Requirement already satisfied: certifi>=2017.4.17 in /usr/local/lib/python3.10/dist-packages (from requests->sec-edgar-downloader) (2024.2.2)\n",
            "Installing collected packages: pyrate-limiter, sec-edgar-downloader\n",
            "Successfully installed pyrate-limiter-3.6.0 sec-edgar-downloader-5.0.2\n"
          ]
        }
      ],
      "source": [
        "!pip install -U sec-edgar-downloader"
      ]
    },
    {
      "cell_type": "code",
      "source": [
        "# Import necessary libraries\n",
        "from sec_edgar_downloader import Downloader\n",
        "import shutil\n",
        "from google.colab import files\n",
        "\n",
        "# Initialize a downloader instance\n",
        "dl = Downloader(\"Tisha\", \"tishachawla5@gmail.com\")\n",
        "\n",
        "# Get all 10-K filings for Microsoft (ticker: MSFT) between Jan 1, 1995, and Dec 31, 2023\n",
        "dl.get(\"10-K\", \"AAPL\", after=\"1995-01-01\", before=\"2023-12-31\")\n",
        "\n",
        "# Specify the folder where the downloaded filings are stored\n",
        "download_folder = 'sec-edgar-filings'\n",
        "\n",
        "# Compress the downloaded filings into a ZIP file\n",
        "shutil.make_archive('filings', 'zip', download_folder)\n",
        "\n",
        "# Download the ZIP file\n",
        "files.download('filings.zip')\n"
      ],
      "metadata": {
        "colab": {
          "base_uri": "https://localhost:8080/",
          "height": 17
        },
        "id": "-eLkSX2dYvNW",
        "outputId": "0d4cd8d6-5f4b-449b-d4a0-2702d88e457b"
      },
      "execution_count": null,
      "outputs": [
        {
          "output_type": "display_data",
          "data": {
            "text/plain": [
              "<IPython.core.display.Javascript object>"
            ],
            "application/javascript": [
              "\n",
              "    async function download(id, filename, size) {\n",
              "      if (!google.colab.kernel.accessAllowed) {\n",
              "        return;\n",
              "      }\n",
              "      const div = document.createElement('div');\n",
              "      const label = document.createElement('label');\n",
              "      label.textContent = `Downloading \"${filename}\": `;\n",
              "      div.appendChild(label);\n",
              "      const progress = document.createElement('progress');\n",
              "      progress.max = size;\n",
              "      div.appendChild(progress);\n",
              "      document.body.appendChild(div);\n",
              "\n",
              "      const buffers = [];\n",
              "      let downloaded = 0;\n",
              "\n",
              "      const channel = await google.colab.kernel.comms.open(id);\n",
              "      // Send a message to notify the kernel that we're ready.\n",
              "      channel.send({})\n",
              "\n",
              "      for await (const message of channel.messages) {\n",
              "        // Send a message to notify the kernel that we're ready.\n",
              "        channel.send({})\n",
              "        if (message.buffers) {\n",
              "          for (const buffer of message.buffers) {\n",
              "            buffers.push(buffer);\n",
              "            downloaded += buffer.byteLength;\n",
              "            progress.value = downloaded;\n",
              "          }\n",
              "        }\n",
              "      }\n",
              "      const blob = new Blob(buffers, {type: 'application/binary'});\n",
              "      const a = document.createElement('a');\n",
              "      a.href = window.URL.createObjectURL(blob);\n",
              "      a.download = filename;\n",
              "      div.appendChild(a);\n",
              "      a.click();\n",
              "      div.remove();\n",
              "    }\n",
              "  "
            ]
          },
          "metadata": {}
        },
        {
          "output_type": "display_data",
          "data": {
            "text/plain": [
              "<IPython.core.display.Javascript object>"
            ],
            "application/javascript": [
              "download(\"download_a4f91ad2-bb48-4f88-8e02-88f64c791018\", \"filings.zip\", 25698939)"
            ]
          },
          "metadata": {}
        }
      ]
    }
  ]
}
